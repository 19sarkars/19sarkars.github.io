{
  "cells": [
    {
      "cell_type": "raw",
      "metadata": {},
      "source": [
        "---\n",
        "title: 'Clustering'\n",
        "author: 'Shivangi Sarkar'\n",
        "date: '2023-11-15'\n",
        "categories: ['Clustering', 'Unsupervised learning']\n",
        "description: 'An introduction to clustering.'\n",
        "execute: \n",
        "  message: false\n",
        "  warning: false\n",
        "editor_options: \n",
        "  chunk_output_type: console\n",
        "---"
      ],
      "id": "88679ab7"
    },
    {
      "cell_type": "markdown",
      "metadata": {},
      "source": [
        "# What is clustering?\n",
        "\n",
        "Clustering is an unsupervised learning method in machine learning. In unsupervised learning, the input data is unlabeled and it is therefore the machine learning model’s job to find correlation between the data points. Specifically, clustering divides a set of data points into groups, where in each group, the data points are similar in some aspect. Each of these groups is called a “cluster”.\n",
        "\n",
        "# Why do we need clustering?\n",
        "\n",
        "You may be wondering why we need this method in the first place. Clustering is extremely useful in cases where the data present is not labeled.\n",
        "\n",
        "# What are the types of clustering?\n",
        "\n",
        "The types of clustering methods are listed below:\n",
        "\n",
        "1. Centroid-based clustering: Organizes data into non-hierarchical clusters\n",
        "2. Density-based clustering: Connects areas of high densities into clusters\n",
        "3. Distribution-based clustering: Clusters data composed of distributions\n",
        "4. Hierarchical clustering: This method creates a tree of clusters\n",
        "\n",
        "# Real-world Applications\n",
        "\n",
        "### Listed below are the a few of the real world applications of clustering:\n",
        "\n",
        "* Cybersecurity: It can prevent cyberattacks by observing patterns of network traffic or system behavior\n",
        "* Crime analysis: Clustering can help to determine hotspots where criminal activity could occur, as well to predict future crime trends\n",
        "* Climate analysis: Clustering can allow us to observe and understand climate change as group patterns of weather conditions\n",
        "* Social network analysis: We can use clustering to group social networks users together based on similarities. This could in turn be used for targeted advertising and making content recommendations\n",
        "\n",
        "## Code Example"
      ],
      "id": "5813bc44"
    },
    {
      "cell_type": "code",
      "metadata": {},
      "source": [
        "# Let's take a look at how K-means clustering can work on randomly generated data\n",
        "import numpy as np\n",
        "import matplotlib.pyplot as plt\n",
        "from sklearn.cluster import KMeans\n",
        "\n",
        "np.random.seed(42)\n",
        "\n",
        "X= -2 * np.random.rand(100,2)\n",
        "X1 = 1 + 2 * np.random.rand(50,2)\n",
        "X[50:100, :] = X1\n",
        "plt.scatter(X[ : , 0], X[ :, 1], s = 50, c = 'b')\n",
        "plt.show()"
      ],
      "id": "6f5c9695",
      "execution_count": null,
      "outputs": []
    },
    {
      "cell_type": "code",
      "metadata": {},
      "source": [
        "# Now let's take those random data points and apply K-Means clustering to them\n",
        "kmeans = KMeans(n_clusters=2, random_state=42)\n",
        "kmeans.fit(X)\n",
        "centers = kmeans.cluster_centers_\n",
        "labels = kmeans.labels_\n",
        "\n",
        "plt.scatter(X[:, 0], X[:, 1], c=labels, s=30, cmap='viridis', alpha=0.8)\n",
        "plt.scatter(centers[:, 0], centers[:, 1], c='red', s=200, marker='X', label='Cluster Centers')\n",
        "plt.title('K-Means Clustering Results')\n",
        "plt.xlabel('Feature 1')\n",
        "plt.ylabel('Feature 2')\n",
        "plt.legend()\n",
        "plt.show()"
      ],
      "id": "a3947d89",
      "execution_count": null,
      "outputs": []
    }
  ],
  "metadata": {
    "kernelspec": {
      "name": "python3",
      "language": "python",
      "display_name": "Python 3 (ipykernel)"
    }
  },
  "nbformat": 4,
  "nbformat_minor": 5
}